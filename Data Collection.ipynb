{
 "cells": [
  {
   "cell_type": "markdown",
   "id": "5365b8ba",
   "metadata": {},
   "source": [
    "## Importing Libraries"
   ]
  },
  {
   "cell_type": "code",
   "execution_count": 1,
   "id": "a12f29a0",
   "metadata": {},
   "outputs": [],
   "source": [
    "# Data processing\n",
    "import numpy as np \n",
    "import pandas as pd \n",
    "\n",
    "# Data exploration/visualization\n",
    "import matplotlib.pyplot as plt \n",
    "import seaborn as sns \n",
    "sns.set_style(\"whitegrid\")\n",
    "\n",
    "# Spotify API\n",
    "import spotipy\n",
    "from spotipy.oauth2 import SpotifyClientCredentials\n",
    "\n",
    "import warnings\n",
    "warnings.filterwarnings(\"ignore\")"
   ]
  },
  {
   "cell_type": "markdown",
   "id": "a6b3234c",
   "metadata": {},
   "source": [
    "## Connecting to Spotify API"
   ]
  },
  {
   "cell_type": "code",
   "execution_count": 2,
   "id": "bfc3c688",
   "metadata": {},
   "outputs": [],
   "source": [
    "# Loading Spotify API credentials\n",
    "with open(\"secret_spotify_auth.txt\") as spotify_auth_text:\n",
    "    auth_info = spotify_auth_text.readlines()\n",
    "    client_id = auth_info[0].strip('\\n')\n",
    "    key = auth_info[1].strip('\\n')\n",
    "    \n",
    "# Authenticationing without user credentials\n",
    "client_credentials_manager = SpotifyClientCredentials(client_id = client_id, client_secret = key)\n",
    "spotify = spotipy.Spotify(client_credentials_manager = client_credentials_manager)"
   ]
  },
  {
   "cell_type": "code",
   "execution_count": null,
   "id": "7716f100",
   "metadata": {},
   "outputs": [],
   "source": []
  }
 ],
 "metadata": {
  "kernelspec": {
   "display_name": "venv",
   "language": "python",
   "name": "venv"
  },
  "language_info": {
   "codemirror_mode": {
    "name": "ipython",
    "version": 3
   },
   "file_extension": ".py",
   "mimetype": "text/x-python",
   "name": "python",
   "nbconvert_exporter": "python",
   "pygments_lexer": "ipython3",
   "version": "3.11.1"
  }
 },
 "nbformat": 4,
 "nbformat_minor": 5
}
